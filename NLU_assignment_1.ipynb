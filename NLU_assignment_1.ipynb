{
  "nbformat": 4,
  "nbformat_minor": 0,
  "metadata": {
    "colab": {
      "name": "NLU-assignment-1",
      "provenance": [],
      "collapsed_sections": [],
      "toc_visible": true,
      "include_colab_link": true
    },
    "kernelspec": {
      "display_name": "Python 3",
      "name": "python3"
    }
  },
  "cells": [
    {
      "cell_type": "markdown",
      "metadata": {
        "id": "view-in-github",
        "colab_type": "text"
      },
      "source": [
        "<a href=\"https://colab.research.google.com/github/MatteoZanella/NLU-assignement-1/blob/main/NLU_assignment_1.ipynb\" target=\"_parent\"><img src=\"https://colab.research.google.com/assets/colab-badge.svg\" alt=\"Open In Colab\"/></a>"
      ]
    },
    {
      "cell_type": "markdown",
      "metadata": {
        "id": "O99OsUUONTEK"
      },
      "source": [
        "# NLU assignment n.1"
      ]
    },
    {
      "cell_type": "markdown",
      "metadata": {
        "id": "141aPErmO-H6"
      },
      "source": [
        "## Part A: Working with Dependency Graphs\n",
        "The objective of the assignment is to learn how to work with dependency graphs by defining functions.\n",
        "\n",
        "Read [spaCy documentation on dependency parser](https://spacy.io/api/dependencyparser) to learn provided methods."
      ]
    },
    {
      "cell_type": "code",
      "metadata": {
        "id": "RJVn2Qwsv6Vu"
      },
      "source": [
        "# Imports\n",
        "import spacy\n",
        "from spacy import displacy\n",
        "\n",
        "# HELPER FUNCTIONS\n",
        "# get the doc from a sentence\n",
        "def doc_of(sentence: str) -> spacy.tokens.Doc:\n",
        "  nlp = spacy.load(\"en_core_web_sm\")\n",
        "  return nlp(sentence)"
      ],
      "execution_count": null,
      "outputs": []
    },
    {
      "cell_type": "code",
      "metadata": {
        "colab": {
          "base_uri": "https://localhost:8080/",
          "height": 441
        },
        "id": "jOKd8l97MobZ",
        "outputId": "1d48a483-b8a0-41c3-c07a-9cc2e361d9a1"
      },
      "source": [
        "# Example sentence (for testing)\n",
        "example = \"Credit and mortgage account holders must submit their requests.\"\n",
        "# Example sentence visualization\n",
        "displacy.render(doc_of(example), style='dep', jupyter=True)"
      ],
      "execution_count": null,
      "outputs": [
        {
          "output_type": "display_data",
          "data": {
            "text/html": [
              "<span class=\"tex2jax_ignore\"><svg xmlns=\"http://www.w3.org/2000/svg\" xmlns:xlink=\"http://www.w3.org/1999/xlink\" xml:lang=\"en\" id=\"adbd5d626aa14c81ab8a6ecfff3ba82b-0\" class=\"displacy\" width=\"1625\" height=\"399.5\" direction=\"ltr\" style=\"max-width: none; height: 399.5px; color: #000000; background: #ffffff; font-family: Arial; direction: ltr\">\n",
              "<text class=\"displacy-token\" fill=\"currentColor\" text-anchor=\"middle\" y=\"309.5\">\n",
              "    <tspan class=\"displacy-word\" fill=\"currentColor\" x=\"50\">Credit</tspan>\n",
              "    <tspan class=\"displacy-tag\" dy=\"2em\" fill=\"currentColor\" x=\"50\">NOUN</tspan>\n",
              "</text>\n",
              "\n",
              "<text class=\"displacy-token\" fill=\"currentColor\" text-anchor=\"middle\" y=\"309.5\">\n",
              "    <tspan class=\"displacy-word\" fill=\"currentColor\" x=\"225\">and</tspan>\n",
              "    <tspan class=\"displacy-tag\" dy=\"2em\" fill=\"currentColor\" x=\"225\">CCONJ</tspan>\n",
              "</text>\n",
              "\n",
              "<text class=\"displacy-token\" fill=\"currentColor\" text-anchor=\"middle\" y=\"309.5\">\n",
              "    <tspan class=\"displacy-word\" fill=\"currentColor\" x=\"400\">mortgage</tspan>\n",
              "    <tspan class=\"displacy-tag\" dy=\"2em\" fill=\"currentColor\" x=\"400\">NOUN</tspan>\n",
              "</text>\n",
              "\n",
              "<text class=\"displacy-token\" fill=\"currentColor\" text-anchor=\"middle\" y=\"309.5\">\n",
              "    <tspan class=\"displacy-word\" fill=\"currentColor\" x=\"575\">account</tspan>\n",
              "    <tspan class=\"displacy-tag\" dy=\"2em\" fill=\"currentColor\" x=\"575\">NOUN</tspan>\n",
              "</text>\n",
              "\n",
              "<text class=\"displacy-token\" fill=\"currentColor\" text-anchor=\"middle\" y=\"309.5\">\n",
              "    <tspan class=\"displacy-word\" fill=\"currentColor\" x=\"750\">holders</tspan>\n",
              "    <tspan class=\"displacy-tag\" dy=\"2em\" fill=\"currentColor\" x=\"750\">NOUN</tspan>\n",
              "</text>\n",
              "\n",
              "<text class=\"displacy-token\" fill=\"currentColor\" text-anchor=\"middle\" y=\"309.5\">\n",
              "    <tspan class=\"displacy-word\" fill=\"currentColor\" x=\"925\">must</tspan>\n",
              "    <tspan class=\"displacy-tag\" dy=\"2em\" fill=\"currentColor\" x=\"925\">VERB</tspan>\n",
              "</text>\n",
              "\n",
              "<text class=\"displacy-token\" fill=\"currentColor\" text-anchor=\"middle\" y=\"309.5\">\n",
              "    <tspan class=\"displacy-word\" fill=\"currentColor\" x=\"1100\">submit</tspan>\n",
              "    <tspan class=\"displacy-tag\" dy=\"2em\" fill=\"currentColor\" x=\"1100\">VERB</tspan>\n",
              "</text>\n",
              "\n",
              "<text class=\"displacy-token\" fill=\"currentColor\" text-anchor=\"middle\" y=\"309.5\">\n",
              "    <tspan class=\"displacy-word\" fill=\"currentColor\" x=\"1275\">their</tspan>\n",
              "    <tspan class=\"displacy-tag\" dy=\"2em\" fill=\"currentColor\" x=\"1275\">DET</tspan>\n",
              "</text>\n",
              "\n",
              "<text class=\"displacy-token\" fill=\"currentColor\" text-anchor=\"middle\" y=\"309.5\">\n",
              "    <tspan class=\"displacy-word\" fill=\"currentColor\" x=\"1450\">requests.</tspan>\n",
              "    <tspan class=\"displacy-tag\" dy=\"2em\" fill=\"currentColor\" x=\"1450\">NOUN</tspan>\n",
              "</text>\n",
              "\n",
              "<g class=\"displacy-arrow\">\n",
              "    <path class=\"displacy-arc\" id=\"arrow-adbd5d626aa14c81ab8a6ecfff3ba82b-0-0\" stroke-width=\"2px\" d=\"M70,264.5 C70,2.0 575.0,2.0 575.0,264.5\" fill=\"none\" stroke=\"currentColor\"/>\n",
              "    <text dy=\"1.25em\" style=\"font-size: 0.8em; letter-spacing: 1px\">\n",
              "        <textPath xlink:href=\"#arrow-adbd5d626aa14c81ab8a6ecfff3ba82b-0-0\" class=\"displacy-label\" startOffset=\"50%\" side=\"left\" fill=\"currentColor\" text-anchor=\"middle\">nmod</textPath>\n",
              "    </text>\n",
              "    <path class=\"displacy-arrowhead\" d=\"M70,266.5 L62,254.5 78,254.5\" fill=\"currentColor\"/>\n",
              "</g>\n",
              "\n",
              "<g class=\"displacy-arrow\">\n",
              "    <path class=\"displacy-arc\" id=\"arrow-adbd5d626aa14c81ab8a6ecfff3ba82b-0-1\" stroke-width=\"2px\" d=\"M70,264.5 C70,177.0 215.0,177.0 215.0,264.5\" fill=\"none\" stroke=\"currentColor\"/>\n",
              "    <text dy=\"1.25em\" style=\"font-size: 0.8em; letter-spacing: 1px\">\n",
              "        <textPath xlink:href=\"#arrow-adbd5d626aa14c81ab8a6ecfff3ba82b-0-1\" class=\"displacy-label\" startOffset=\"50%\" side=\"left\" fill=\"currentColor\" text-anchor=\"middle\">cc</textPath>\n",
              "    </text>\n",
              "    <path class=\"displacy-arrowhead\" d=\"M215.0,266.5 L223.0,254.5 207.0,254.5\" fill=\"currentColor\"/>\n",
              "</g>\n",
              "\n",
              "<g class=\"displacy-arrow\">\n",
              "    <path class=\"displacy-arc\" id=\"arrow-adbd5d626aa14c81ab8a6ecfff3ba82b-0-2\" stroke-width=\"2px\" d=\"M70,264.5 C70,89.5 395.0,89.5 395.0,264.5\" fill=\"none\" stroke=\"currentColor\"/>\n",
              "    <text dy=\"1.25em\" style=\"font-size: 0.8em; letter-spacing: 1px\">\n",
              "        <textPath xlink:href=\"#arrow-adbd5d626aa14c81ab8a6ecfff3ba82b-0-2\" class=\"displacy-label\" startOffset=\"50%\" side=\"left\" fill=\"currentColor\" text-anchor=\"middle\">conj</textPath>\n",
              "    </text>\n",
              "    <path class=\"displacy-arrowhead\" d=\"M395.0,266.5 L403.0,254.5 387.0,254.5\" fill=\"currentColor\"/>\n",
              "</g>\n",
              "\n",
              "<g class=\"displacy-arrow\">\n",
              "    <path class=\"displacy-arc\" id=\"arrow-adbd5d626aa14c81ab8a6ecfff3ba82b-0-3\" stroke-width=\"2px\" d=\"M595,264.5 C595,177.0 740.0,177.0 740.0,264.5\" fill=\"none\" stroke=\"currentColor\"/>\n",
              "    <text dy=\"1.25em\" style=\"font-size: 0.8em; letter-spacing: 1px\">\n",
              "        <textPath xlink:href=\"#arrow-adbd5d626aa14c81ab8a6ecfff3ba82b-0-3\" class=\"displacy-label\" startOffset=\"50%\" side=\"left\" fill=\"currentColor\" text-anchor=\"middle\">compound</textPath>\n",
              "    </text>\n",
              "    <path class=\"displacy-arrowhead\" d=\"M595,266.5 L587,254.5 603,254.5\" fill=\"currentColor\"/>\n",
              "</g>\n",
              "\n",
              "<g class=\"displacy-arrow\">\n",
              "    <path class=\"displacy-arc\" id=\"arrow-adbd5d626aa14c81ab8a6ecfff3ba82b-0-4\" stroke-width=\"2px\" d=\"M770,264.5 C770,89.5 1095.0,89.5 1095.0,264.5\" fill=\"none\" stroke=\"currentColor\"/>\n",
              "    <text dy=\"1.25em\" style=\"font-size: 0.8em; letter-spacing: 1px\">\n",
              "        <textPath xlink:href=\"#arrow-adbd5d626aa14c81ab8a6ecfff3ba82b-0-4\" class=\"displacy-label\" startOffset=\"50%\" side=\"left\" fill=\"currentColor\" text-anchor=\"middle\">nsubj</textPath>\n",
              "    </text>\n",
              "    <path class=\"displacy-arrowhead\" d=\"M770,266.5 L762,254.5 778,254.5\" fill=\"currentColor\"/>\n",
              "</g>\n",
              "\n",
              "<g class=\"displacy-arrow\">\n",
              "    <path class=\"displacy-arc\" id=\"arrow-adbd5d626aa14c81ab8a6ecfff3ba82b-0-5\" stroke-width=\"2px\" d=\"M945,264.5 C945,177.0 1090.0,177.0 1090.0,264.5\" fill=\"none\" stroke=\"currentColor\"/>\n",
              "    <text dy=\"1.25em\" style=\"font-size: 0.8em; letter-spacing: 1px\">\n",
              "        <textPath xlink:href=\"#arrow-adbd5d626aa14c81ab8a6ecfff3ba82b-0-5\" class=\"displacy-label\" startOffset=\"50%\" side=\"left\" fill=\"currentColor\" text-anchor=\"middle\">aux</textPath>\n",
              "    </text>\n",
              "    <path class=\"displacy-arrowhead\" d=\"M945,266.5 L937,254.5 953,254.5\" fill=\"currentColor\"/>\n",
              "</g>\n",
              "\n",
              "<g class=\"displacy-arrow\">\n",
              "    <path class=\"displacy-arc\" id=\"arrow-adbd5d626aa14c81ab8a6ecfff3ba82b-0-6\" stroke-width=\"2px\" d=\"M1295,264.5 C1295,177.0 1440.0,177.0 1440.0,264.5\" fill=\"none\" stroke=\"currentColor\"/>\n",
              "    <text dy=\"1.25em\" style=\"font-size: 0.8em; letter-spacing: 1px\">\n",
              "        <textPath xlink:href=\"#arrow-adbd5d626aa14c81ab8a6ecfff3ba82b-0-6\" class=\"displacy-label\" startOffset=\"50%\" side=\"left\" fill=\"currentColor\" text-anchor=\"middle\">poss</textPath>\n",
              "    </text>\n",
              "    <path class=\"displacy-arrowhead\" d=\"M1295,266.5 L1287,254.5 1303,254.5\" fill=\"currentColor\"/>\n",
              "</g>\n",
              "\n",
              "<g class=\"displacy-arrow\">\n",
              "    <path class=\"displacy-arc\" id=\"arrow-adbd5d626aa14c81ab8a6ecfff3ba82b-0-7\" stroke-width=\"2px\" d=\"M1120,264.5 C1120,89.5 1445.0,89.5 1445.0,264.5\" fill=\"none\" stroke=\"currentColor\"/>\n",
              "    <text dy=\"1.25em\" style=\"font-size: 0.8em; letter-spacing: 1px\">\n",
              "        <textPath xlink:href=\"#arrow-adbd5d626aa14c81ab8a6ecfff3ba82b-0-7\" class=\"displacy-label\" startOffset=\"50%\" side=\"left\" fill=\"currentColor\" text-anchor=\"middle\">dobj</textPath>\n",
              "    </text>\n",
              "    <path class=\"displacy-arrowhead\" d=\"M1445.0,266.5 L1453.0,254.5 1437.0,254.5\" fill=\"currentColor\"/>\n",
              "</g>\n",
              "</svg></span>"
            ],
            "text/plain": [
              "<IPython.core.display.HTML object>"
            ]
          },
          "metadata": {
            "tags": []
          }
        }
      ]
    },
    {
      "cell_type": "markdown",
      "metadata": {
        "id": "5kDDUX8DPF_5"
      },
      "source": [
        "### Task A1\n",
        "Extract a path of dependency relations from the ROOT to a token\n",
        "\n",
        "The best way to match is from below"
      ]
    },
    {
      "cell_type": "code",
      "metadata": {
        "id": "VwWcVJUiFJNE"
      },
      "source": [
        "from collections import deque\n",
        "\n",
        "\n",
        "def dependency_path(sentence: str):\n",
        "  doc = doc_of(sentence)\n",
        "  root = doc[:].root\n",
        "  paths = {root: []}\n",
        "  tokens = deque([root])\n",
        "  # BFS search from the root\n",
        "  while tokens:\n",
        "    token = tokens.popleft()\n",
        "    paths[token] = [*paths[token.head], token.dep_]\n",
        "    tokens.extend(token.children)\n",
        "  return paths"
      ],
      "execution_count": null,
      "outputs": []
    },
    {
      "cell_type": "markdown",
      "metadata": {
        "id": "hffSPxUuxNb9"
      },
      "source": [
        "#### Testing A1"
      ]
    },
    {
      "cell_type": "code",
      "metadata": {
        "colab": {
          "base_uri": "https://localhost:8080/"
        },
        "id": "WIsi5oDFGBE_",
        "outputId": "77f5349b-d8d0-4702-c809-cad8e53ae1b6"
      },
      "source": [
        "# Task A1 testing\n",
        "paths = dependency_path(example)\n",
        "for token in paths:\n",
        "  print(f\"{token}: {paths[token]}\")"
      ],
      "execution_count": null,
      "outputs": [
        {
          "output_type": "stream",
          "text": [
            "submit: ['ROOT']\n",
            "holders: ['ROOT', 'nsubj']\n",
            "must: ['ROOT', 'aux']\n",
            "requests: ['ROOT', 'dobj']\n",
            ".: ['ROOT', 'punct']\n",
            "account: ['ROOT', 'nsubj', 'compound']\n",
            "their: ['ROOT', 'dobj', 'poss']\n",
            "Credit: ['ROOT', 'nsubj', 'compound', 'nmod']\n",
            "and: ['ROOT', 'nsubj', 'compound', 'nmod', 'cc']\n",
            "mortgage: ['ROOT', 'nsubj', 'compound', 'nmod', 'conj']\n"
          ],
          "name": "stdout"
        }
      ]
    },
    {
      "cell_type": "markdown",
      "metadata": {
        "id": "wH-y2WbUPZu5"
      },
      "source": [
        "### Task A2\n",
        "Extract subtree of a dependents given a token"
      ]
    },
    {
      "cell_type": "code",
      "metadata": {
        "id": "WiQZITfAVb_2"
      },
      "source": [
        "def dependents_tree(sentence: str):\n",
        "  doc = doc_of(sentence)\n",
        "  return {token: [*token.subtree] for token in doc}"
      ],
      "execution_count": null,
      "outputs": []
    },
    {
      "cell_type": "markdown",
      "metadata": {
        "id": "JEw4DM64Wc98"
      },
      "source": [
        "#### Testing A2"
      ]
    },
    {
      "cell_type": "code",
      "metadata": {
        "colab": {
          "base_uri": "https://localhost:8080/"
        },
        "id": "0dM7MGkhWfrk",
        "outputId": "7a8d4029-34d9-4c0c-b4c9-ee337fa4ab27"
      },
      "source": [
        "# Task A2 testing\n",
        "paths = dependents_tree(example)\n",
        "for token in paths:\n",
        "  print(f\"{token}: {paths[token]}\")"
      ],
      "execution_count": null,
      "outputs": [
        {
          "output_type": "stream",
          "text": [
            "Credit: [Credit, and, mortgage]\n",
            "and: [and]\n",
            "mortgage: [mortgage]\n",
            "account: [Credit, and, mortgage, account]\n",
            "holders: [Credit, and, mortgage, account, holders]\n",
            "must: [must]\n",
            "submit: [Credit, and, mortgage, account, holders, must, submit, their, requests, .]\n",
            "their: [their]\n",
            "requests: [their, requests]\n",
            ".: [.]\n"
          ],
          "name": "stdout"
        }
      ]
    },
    {
      "cell_type": "markdown",
      "metadata": {
        "id": "Kfn7btkXPfSs"
      },
      "source": [
        "### Task A3\n",
        "Check if a given list of tokens (ordered list of words from the sentence) forms a subtree\n"
      ]
    },
    {
      "cell_type": "code",
      "metadata": {
        "id": "jtcZMNNrXHOI"
      },
      "source": [
        "def is_dependents_tree(sentence: str, sequence: [str]):\n",
        "  doc = doc_of(sentence)\n",
        "  sequence_set = set(sequence)\n",
        "  # We use the first word as anchor to find the within-sequence root. With \n",
        "  # repetitions of the anchor word, at least one should have a within-sequence\n",
        "  # root that is the root of the sequence\n",
        "  anchor = sequence[0]\n",
        "  for token in doc:\n",
        "    if token.text == anchor:\n",
        "      # Find the within-sequence root\n",
        "      root = token\n",
        "      while root != root.head and root.head.text in sequence_set:\n",
        "        root = root.head\n",
        "      # Check if the within-sequence root is the sequence root\n",
        "      if sequence == [token.text for token in root.subtree]:\n",
        "        return True\n",
        "  return False\n"
      ],
      "execution_count": null,
      "outputs": []
    },
    {
      "cell_type": "markdown",
      "metadata": {
        "id": "IjzWAMsOnXz9"
      },
      "source": [
        "#### Testing A3"
      ]
    },
    {
      "cell_type": "code",
      "metadata": {
        "colab": {
          "base_uri": "https://localhost:8080/"
        },
        "id": "IMe6B-ZtngtJ",
        "outputId": "a522a470-998e-4488-e4f3-2cec3faab265"
      },
      "source": [
        "# Task A3 testing\n",
        "trees = [[\"Credit\", \"and\", \"mortgage\"],\n",
        "         [\"and\", \"Credit\", \"mortgage\"],\n",
        "         [\"must\", \"submit\", \"their\"]]\n",
        "for tree in trees:\n",
        "  print(f\"{tree}: {is_dependents_tree(example, tree)}\")"
      ],
      "execution_count": null,
      "outputs": [
        {
          "output_type": "stream",
          "text": [
            "['Credit', 'and', 'mortgage']: True\n",
            "['and', 'Credit', 'mortgage']: False\n",
            "['must', 'submit', 'their']: False\n"
          ],
          "name": "stdout"
        }
      ]
    },
    {
      "cell_type": "markdown",
      "metadata": {
        "id": "YPiyRSXTPloa"
      },
      "source": [
        "### Task A4\n",
        " Identify the head of a span, given its tokens: find the head/root of a phrase"
      ]
    },
    {
      "cell_type": "code",
      "metadata": {
        "id": "7aCJUdI7tn0P"
      },
      "source": [
        "def head_of(sentence: str):\n",
        "  doc = doc_of(sentence)\n",
        "  return doc[:].root"
      ],
      "execution_count": null,
      "outputs": []
    },
    {
      "cell_type": "markdown",
      "metadata": {
        "id": "90yc_kmqt9yv"
      },
      "source": [
        "#### Testing A4"
      ]
    },
    {
      "cell_type": "code",
      "metadata": {
        "colab": {
          "base_uri": "https://localhost:8080/"
        },
        "id": "3FKkifJpt_8H",
        "outputId": "1dfe16f2-d051-4ba5-c458-b41940280da8"
      },
      "source": [
        "# Task A4 testing\n",
        "examples = [example, \"man with a telescope\", \"has the tower tripped down?\"]\n",
        "for ex in examples:\n",
        "  print(f\"{ex}: {head_of(ex)}\")"
      ],
      "execution_count": null,
      "outputs": [
        {
          "output_type": "stream",
          "text": [
            "Credit and mortgage account holders must submit their requests.: submit\n",
            "man with a telescope: man\n",
            "has the tower tripped down?: tripped\n"
          ],
          "name": "stdout"
        }
      ]
    },
    {
      "cell_type": "markdown",
      "metadata": {
        "id": "VAtVedHmPohR"
      },
      "source": [
        "### Task A5\n",
        "Extract sentence subject, direct object and indirect object spans. Each span lenght is 1, for the single word.\n",
        "\n",
        "`iobj` is [not a parsed dependency](https://spacy.io/models/en): `dative` is parsed instead."
      ]
    },
    {
      "cell_type": "code",
      "metadata": {
        "id": "DPwV0Q1ZvdB1"
      },
      "source": [
        "def interesting_spans(sentence: str):\n",
        "  doc = doc_of(sentence)\n",
        "  spans = {'nsubj': [], 'dobj': [], 'dative':[]}\n",
        "  for token in doc:\n",
        "    if token.dep_ == 'nsubj' or token.dep_ == 'dobj' or token.dep_ == 'dative':\n",
        "      spans[token.dep_].append(doc[token.i:token.i+1])\n",
        "  return spans"
      ],
      "execution_count": null,
      "outputs": []
    },
    {
      "cell_type": "markdown",
      "metadata": {
        "id": "B2loKndTy1fA"
      },
      "source": [
        "#### Testing A5"
      ]
    },
    {
      "cell_type": "code",
      "metadata": {
        "colab": {
          "base_uri": "https://localhost:8080/"
        },
        "id": "k6ajWGlYy4hN",
        "outputId": "335619f1-c123-4b89-97b0-eeb50988b087"
      },
      "source": [
        "print(interesting_spans(example))\n",
        "print(interesting_spans(\"I read her the letter\"))\n",
        "print(interesting_spans(\"They normally give refugees shelter.\"))"
      ],
      "execution_count": null,
      "outputs": [
        {
          "output_type": "stream",
          "text": [
            "{'nsubj': [holders], 'dobj': [requests], 'dative': []}\n",
            "{'nsubj': [I], 'dobj': [letter], 'dative': [her]}\n",
            "{'nsubj': [They], 'dobj': [shelter], 'dative': [refugees]}\n"
          ],
          "name": "stdout"
        }
      ]
    },
    {
      "cell_type": "markdown",
      "metadata": {
        "id": "11UJZwWaPyNv"
      },
      "source": [
        "## Part B: Training Transition-Based Dependency Parser\n",
        "This part is optional and advanced"
      ]
    },
    {
      "cell_type": "markdown",
      "metadata": {
        "id": "F0ZZdcmyP_lk"
      },
      "source": [
        "### Task B1\n",
        "Modify [NLTK Transition parser](https://github.com/nltk/nltk/blob/develop/nltk/parse/transitionparser.py)'s `Configuration` class to use better features."
      ]
    },
    {
      "cell_type": "markdown",
      "metadata": {
        "id": "fxNM30apQcYz"
      },
      "source": [
        "### Task B2\n",
        "Evaluate the features, comparing the performance to the original."
      ]
    },
    {
      "cell_type": "markdown",
      "metadata": {
        "id": "rMuBYl4_Qdr2"
      },
      "source": [
        "### Task B3\n",
        "Replace `SVM` classifier with an alternative of your choice."
      ]
    }
  ]
}